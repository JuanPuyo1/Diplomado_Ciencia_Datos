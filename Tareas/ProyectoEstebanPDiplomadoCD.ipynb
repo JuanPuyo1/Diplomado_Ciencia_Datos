{
 "cells": [
  {
   "cell_type": "markdown",
   "id": "a7797a99-d4cc-4250-8ff2-4120c81aa2af",
   "metadata": {},
   "source": [
    "## Predicción de ventas en productos de joyería con Machine Learning y DARTS"
   ]
  },
  {
   "cell_type": "markdown",
   "id": "ca41b764-fadd-45de-9e54-714ff472b723",
   "metadata": {},
   "source": [
    "##### Juan Esteban Puyo Cubillos"
   ]
  },
  {
   "cell_type": "markdown",
   "id": "0c54a355-cd0d-454a-a574-7656f46fef2e",
   "metadata": {},
   "source": [
    "##### Diplomado en Ciencia de Datos, Universidad Nacional de Colombia"
   ]
  },
  {
   "cell_type": "markdown",
   "id": "492f70f7-fb5a-47de-9c25-f51018439cdf",
   "metadata": {},
   "source": [
    "##### Prof Daniel Montenegro"
   ]
  },
  {
   "cell_type": "markdown",
   "id": "dc9202f8-2851-40cb-8a7d-e0a0bfce3d42",
   "metadata": {},
   "source": [
    "##### Agosto 13 de 2023"
   ]
  },
  {
   "cell_type": "markdown",
   "id": "60ea4af1-b74c-402d-a062-2341e46fa33d",
   "metadata": {
    "tags": []
   },
   "source": [
    "#### Introducción"
   ]
  },
  {
   "cell_type": "markdown",
   "id": "008009bc-3305-4d5c-9dfe-b4986f85e1da",
   "metadata": {},
   "source": [
    "La gestión de los costes de producción es un factor clave para aumentar la competitividad industrial. En el mercado de joyería, los metales preciosos y las piedras preciosas comprenden el 65% del costo del material de joyería. El otro porcentaje es dividos en otros recursos (personal, tiempo y energía)."
   ]
  },
  {
   "cell_type": "markdown",
   "id": "c7ddfcfc-3371-465a-8a32-e8631653643f",
   "metadata": {},
   "source": [
    "Administrar el costo de la materia prima es una tarea desafiante, especialmente cuando el precio fluctúa mucho. Puesto que, una alternativa viable para gestionar los costos es la predicción de ventas."
   ]
  },
  {
   "cell_type": "markdown",
   "id": "0e1d5d38-1f6f-4b73-ba12-016959a7c578",
   "metadata": {},
   "source": [
    "La predicción de ventas permite gestionar el inventario, apoyar en la creación de una estimación de gastos y hasta mejorar la eficiencia en la producción (evitando problemas como la subutilización de recursos o la sobreproducción)"
   ]
  },
  {
   "cell_type": "markdown",
   "id": "4d24b6f6-6ebd-42c0-a423-c6c765fb0190",
   "metadata": {},
   "source": [
    "El presente trabajo presenta la predicción de ventas en productos de joyería con Machine Learning y DARTS, una librería de python."
   ]
  },
  {
   "cell_type": "markdown",
   "id": "6c3330e9-f5e5-47b4-9643-02d8ac27a2db",
   "metadata": {},
   "source": [
    "#### Definición del problema"
   ]
  },
  {
   "cell_type": "markdown",
   "id": "bfa79422-5549-4b6f-b9b0-9421d1da25ff",
   "metadata": {},
   "source": [
    "La joyería es parte de la historia de Colombia, un elemento profundamente arraigado a su idiosincrasia, donde la tradición y la modernidad encuentran un punto medio dentro del desarrollo socioeconómico del país. "
   ]
  },
  {
   "cell_type": "markdown",
   "id": "388ea9a3-da5d-4e82-b4e4-ec4bbea29482",
   "metadata": {},
   "source": [
    "Por este motivo, es importante preguntarse si realmente le estamos sacando provecho a la materia prima, la tradición y la mano de obra local. Según FENALCO (2015) el 98% del mercado de joyería en Colombia es informal. Lo que significa que, a diferencia de micro empresas y empresas bien constituidas, no se crean estrategias que potencien las ventas, optimicen los procesos de producción y gestionen los gastos."
   ]
  },
  {
   "cell_type": "markdown",
   "id": "af31992a-0b6a-4ab5-ab1a-5243209e9f97",
   "metadata": {},
   "source": [
    "La predicción de ventas es una herramienta valiosa que puede ayudar a las joyerías en Colombia a evaluar su rentabilidad, controlar sus gastos y optimizar sus procesos de producción. Es un primer paso en la creación de un plan que proporcione información valiosa para tomar decisiones informadas.  "
   ]
  },
  {
   "cell_type": "markdown",
   "id": "c70c6955-2931-4262-906a-0ec1c0984f37",
   "metadata": {},
   "source": [
    "Con base en lo anterior, el presente trabajo presenta un modelo de ciencia de datos que predice las ventas de productos de joyería con la utilización de machine learning y DARTS, una librería de python."
   ]
  },
  {
   "cell_type": "markdown",
   "id": "7fbad7f9-13a9-414d-b574-7a9853ea3b3d",
   "metadata": {},
   "source": [
    "#### Fuentes de los datos"
   ]
  },
  {
   "cell_type": "markdown",
   "id": "618676d5-a01e-4536-93d9-047e4a44f97b",
   "metadata": {},
   "source": [
    "Este archivo contiene datos de compras de diciembre de 2018 a diciembre de 2021 (3 años) de una tienda en línea de joyería de tamaño mediano. Cada fila del archivo representa un producto comprado. Varios productos del mismo pedido/compra se enumeran en líneas separadas y se unen mediante el campo order_id."
   ]
  },
  {
   "cell_type": "code",
   "execution_count": 2,
   "id": "3942354d-279a-41e2-8fc5-ed3a0e70322b",
   "metadata": {},
   "outputs": [],
   "source": [
    "import pandas as pd"
   ]
  },
  {
   "cell_type": "code",
   "execution_count": 3,
   "id": "e4784d69-d15e-43d8-9b80-9db6bfaa1670",
   "metadata": {},
   "outputs": [],
   "source": [
    "jew = pd.read_csv(\"jewelry.csv\")"
   ]
  },
  {
   "cell_type": "code",
   "execution_count": 7,
   "id": "61b52f86-2bad-4d00-9c71-3139dac54d47",
   "metadata": {},
   "outputs": [
    {
     "data": {
      "text/html": [
       "<div>\n",
       "<style scoped>\n",
       "    .dataframe tbody tr th:only-of-type {\n",
       "        vertical-align: middle;\n",
       "    }\n",
       "\n",
       "    .dataframe tbody tr th {\n",
       "        vertical-align: top;\n",
       "    }\n",
       "\n",
       "    .dataframe thead th {\n",
       "        text-align: right;\n",
       "    }\n",
       "</style>\n",
       "<table border=\"1\" class=\"dataframe\">\n",
       "  <thead>\n",
       "    <tr style=\"text-align: right;\">\n",
       "      <th></th>\n",
       "      <th>2018-12-01 11:40:29 UTC</th>\n",
       "      <th>1924719191579951782</th>\n",
       "      <th>1842195256808833386</th>\n",
       "      <th>1</th>\n",
       "      <th>1806829201890738522</th>\n",
       "      <th>jewelry.earring</th>\n",
       "      <th>0</th>\n",
       "      <th>561.51</th>\n",
       "      <th>1515915625207851155</th>\n",
       "      <th>Unnamed: 9</th>\n",
       "      <th>red</th>\n",
       "      <th>gold</th>\n",
       "      <th>diamond</th>\n",
       "    </tr>\n",
       "  </thead>\n",
       "  <tbody>\n",
       "    <tr>\n",
       "      <th>0</th>\n",
       "      <td>2018-12-01 17:38:31 UTC</td>\n",
       "      <td>1924899396621697920</td>\n",
       "      <td>1806829193678291446</td>\n",
       "      <td>1</td>\n",
       "      <td>1.806829e+18</td>\n",
       "      <td>NaN</td>\n",
       "      <td>NaN</td>\n",
       "      <td>212.14</td>\n",
       "      <td>1.515916e+18</td>\n",
       "      <td>NaN</td>\n",
       "      <td>yellow</td>\n",
       "      <td>gold</td>\n",
       "      <td>NaN</td>\n",
       "    </tr>\n",
       "    <tr>\n",
       "      <th>1</th>\n",
       "      <td>2018-12-02 13:53:42 UTC</td>\n",
       "      <td>1925511016616034733</td>\n",
       "      <td>1842214461889315556</td>\n",
       "      <td>1</td>\n",
       "      <td>1.806829e+18</td>\n",
       "      <td>jewelry.pendant</td>\n",
       "      <td>1.0</td>\n",
       "      <td>54.66</td>\n",
       "      <td>1.515916e+18</td>\n",
       "      <td>f</td>\n",
       "      <td>white</td>\n",
       "      <td>gold</td>\n",
       "      <td>sapphire</td>\n",
       "    </tr>\n",
       "    <tr>\n",
       "      <th>2</th>\n",
       "      <td>2018-12-02 17:44:02 UTC</td>\n",
       "      <td>1925626951238681511</td>\n",
       "      <td>1835566849434059453</td>\n",
       "      <td>1</td>\n",
       "      <td>1.806829e+18</td>\n",
       "      <td>jewelry.pendant</td>\n",
       "      <td>0.0</td>\n",
       "      <td>88.90</td>\n",
       "      <td>1.515916e+18</td>\n",
       "      <td>f</td>\n",
       "      <td>red</td>\n",
       "      <td>gold</td>\n",
       "      <td>diamond</td>\n",
       "    </tr>\n",
       "    <tr>\n",
       "      <th>3</th>\n",
       "      <td>2018-12-02 21:30:19 UTC</td>\n",
       "      <td>1925740842841014667</td>\n",
       "      <td>1873936840742928865</td>\n",
       "      <td>1</td>\n",
       "      <td>1.806829e+18</td>\n",
       "      <td>jewelry.necklace</td>\n",
       "      <td>0.0</td>\n",
       "      <td>417.67</td>\n",
       "      <td>1.515916e+18</td>\n",
       "      <td>NaN</td>\n",
       "      <td>red</td>\n",
       "      <td>gold</td>\n",
       "      <td>amethyst</td>\n",
       "    </tr>\n",
       "    <tr>\n",
       "      <th>4</th>\n",
       "      <td>2018-12-02 22:09:34 UTC</td>\n",
       "      <td>1925760595336888995</td>\n",
       "      <td>1835566854827934449</td>\n",
       "      <td>1</td>\n",
       "      <td>1.806829e+18</td>\n",
       "      <td>jewelry.earring</td>\n",
       "      <td>1.0</td>\n",
       "      <td>102.27</td>\n",
       "      <td>1.515916e+18</td>\n",
       "      <td>NaN</td>\n",
       "      <td>red</td>\n",
       "      <td>gold</td>\n",
       "      <td>NaN</td>\n",
       "    </tr>\n",
       "    <tr>\n",
       "      <th>...</th>\n",
       "      <td>...</td>\n",
       "      <td>...</td>\n",
       "      <td>...</td>\n",
       "      <td>...</td>\n",
       "      <td>...</td>\n",
       "      <td>...</td>\n",
       "      <td>...</td>\n",
       "      <td>...</td>\n",
       "      <td>...</td>\n",
       "      <td>...</td>\n",
       "      <td>...</td>\n",
       "      <td>...</td>\n",
       "      <td>...</td>\n",
       "    </tr>\n",
       "    <tr>\n",
       "      <th>95</th>\n",
       "      <td>2018-12-19 16:23:01 UTC</td>\n",
       "      <td>1937907359061901878</td>\n",
       "      <td>1857928178572460326</td>\n",
       "      <td>1</td>\n",
       "      <td>1.806829e+18</td>\n",
       "      <td>jewelry.ring</td>\n",
       "      <td>1.0</td>\n",
       "      <td>200.85</td>\n",
       "      <td>1.515916e+18</td>\n",
       "      <td>NaN</td>\n",
       "      <td>white</td>\n",
       "      <td>gold</td>\n",
       "      <td>diamond</td>\n",
       "    </tr>\n",
       "    <tr>\n",
       "      <th>96</th>\n",
       "      <td>2018-12-19 16:53:23 UTC</td>\n",
       "      <td>1937922645941027618</td>\n",
       "      <td>1870506514704236918</td>\n",
       "      <td>1</td>\n",
       "      <td>1.806829e+18</td>\n",
       "      <td>jewelry.ring</td>\n",
       "      <td>1.0</td>\n",
       "      <td>150.55</td>\n",
       "      <td>1.515916e+18</td>\n",
       "      <td>f</td>\n",
       "      <td>red</td>\n",
       "      <td>gold</td>\n",
       "      <td>diamond</td>\n",
       "    </tr>\n",
       "    <tr>\n",
       "      <th>97</th>\n",
       "      <td>2018-12-20 12:24:45 UTC</td>\n",
       "      <td>1938512213568389226</td>\n",
       "      <td>1806829198015201339</td>\n",
       "      <td>1</td>\n",
       "      <td>1.806829e+18</td>\n",
       "      <td>jewelry.ring</td>\n",
       "      <td>2.0</td>\n",
       "      <td>171.25</td>\n",
       "      <td>1.515916e+18</td>\n",
       "      <td>NaN</td>\n",
       "      <td>red</td>\n",
       "      <td>gold</td>\n",
       "      <td>fianit</td>\n",
       "    </tr>\n",
       "    <tr>\n",
       "      <th>98</th>\n",
       "      <td>2018-12-20 12:47:00 UTC</td>\n",
       "      <td>1938523410967560554</td>\n",
       "      <td>1839476427351654532</td>\n",
       "      <td>1</td>\n",
       "      <td>1.806829e+18</td>\n",
       "      <td>jewelry.pendant</td>\n",
       "      <td>NaN</td>\n",
       "      <td>0.99</td>\n",
       "      <td>1.515916e+18</td>\n",
       "      <td>NaN</td>\n",
       "      <td>NaN</td>\n",
       "      <td>silver</td>\n",
       "      <td>fianit</td>\n",
       "    </tr>\n",
       "    <tr>\n",
       "      <th>99</th>\n",
       "      <td>2018-12-20 12:47:00 UTC</td>\n",
       "      <td>1938523410967560554</td>\n",
       "      <td>1839803839394349564</td>\n",
       "      <td>1</td>\n",
       "      <td>1.806829e+18</td>\n",
       "      <td>jewelry.pendant</td>\n",
       "      <td>4.0</td>\n",
       "      <td>1.03</td>\n",
       "      <td>1.515916e+18</td>\n",
       "      <td>NaN</td>\n",
       "      <td>NaN</td>\n",
       "      <td>silver</td>\n",
       "      <td>fianit</td>\n",
       "    </tr>\n",
       "  </tbody>\n",
       "</table>\n",
       "<p>100 rows × 13 columns</p>\n",
       "</div>"
      ],
      "text/plain": [
       "    2018-12-01 11:40:29 UTC  1924719191579951782  1842195256808833386  1  \\\n",
       "0   2018-12-01 17:38:31 UTC  1924899396621697920  1806829193678291446  1   \n",
       "1   2018-12-02 13:53:42 UTC  1925511016616034733  1842214461889315556  1   \n",
       "2   2018-12-02 17:44:02 UTC  1925626951238681511  1835566849434059453  1   \n",
       "3   2018-12-02 21:30:19 UTC  1925740842841014667  1873936840742928865  1   \n",
       "4   2018-12-02 22:09:34 UTC  1925760595336888995  1835566854827934449  1   \n",
       "..                      ...                  ...                  ... ..   \n",
       "95  2018-12-19 16:23:01 UTC  1937907359061901878  1857928178572460326  1   \n",
       "96  2018-12-19 16:53:23 UTC  1937922645941027618  1870506514704236918  1   \n",
       "97  2018-12-20 12:24:45 UTC  1938512213568389226  1806829198015201339  1   \n",
       "98  2018-12-20 12:47:00 UTC  1938523410967560554  1839476427351654532  1   \n",
       "99  2018-12-20 12:47:00 UTC  1938523410967560554  1839803839394349564  1   \n",
       "\n",
       "    1806829201890738522   jewelry.earring    0  561.51  1515915625207851155  \\\n",
       "0          1.806829e+18               NaN  NaN  212.14         1.515916e+18   \n",
       "1          1.806829e+18   jewelry.pendant  1.0   54.66         1.515916e+18   \n",
       "2          1.806829e+18   jewelry.pendant  0.0   88.90         1.515916e+18   \n",
       "3          1.806829e+18  jewelry.necklace  0.0  417.67         1.515916e+18   \n",
       "4          1.806829e+18   jewelry.earring  1.0  102.27         1.515916e+18   \n",
       "..                  ...               ...  ...     ...                  ...   \n",
       "95         1.806829e+18      jewelry.ring  1.0  200.85         1.515916e+18   \n",
       "96         1.806829e+18      jewelry.ring  1.0  150.55         1.515916e+18   \n",
       "97         1.806829e+18      jewelry.ring  2.0  171.25         1.515916e+18   \n",
       "98         1.806829e+18   jewelry.pendant  NaN    0.99         1.515916e+18   \n",
       "99         1.806829e+18   jewelry.pendant  4.0    1.03         1.515916e+18   \n",
       "\n",
       "   Unnamed: 9     red    gold   diamond  \n",
       "0         NaN  yellow    gold       NaN  \n",
       "1           f   white    gold  sapphire  \n",
       "2           f     red    gold   diamond  \n",
       "3         NaN     red    gold  amethyst  \n",
       "4         NaN     red    gold       NaN  \n",
       "..        ...     ...     ...       ...  \n",
       "95        NaN   white    gold   diamond  \n",
       "96          f     red    gold   diamond  \n",
       "97        NaN     red    gold    fianit  \n",
       "98        NaN     NaN  silver    fianit  \n",
       "99        NaN     NaN  silver    fianit  \n",
       "\n",
       "[100 rows x 13 columns]"
      ]
     },
     "execution_count": 7,
     "metadata": {},
     "output_type": "execute_result"
    }
   ],
   "source": [
    "jew.head(100)"
   ]
  },
  {
   "cell_type": "markdown",
   "id": "bf2da3aa-0fe8-4b20-b161-a2f000a4401d",
   "metadata": {},
   "source": [
    "#### ETL"
   ]
  },
  {
   "cell_type": "markdown",
   "id": "f006d2da-e64d-4261-8b32-1ccb7fe12e07",
   "metadata": {},
   "source": [
    "El proceso de transformación y limpieza permitirá desde poner etiquetas a cada una de las columnas con el fin de saber que información contienen hasta eliminar campos nulos y terminos redundates (ej, jewelry.ring)"
   ]
  },
  {
   "cell_type": "markdown",
   "id": "14a7bc70-dd2c-47e8-a0ff-aa77486ff337",
   "metadata": {},
   "source": [
    "#### Exploración de los datos"
   ]
  },
  {
   "cell_type": "markdown",
   "id": "5bce8804-4836-492a-8853-5da4d8229076",
   "metadata": {},
   "source": [
    "Las ventas son variables cuantitativas continuas que podría analizar utilizando las funciones densidad de una distribución normal."
   ]
  },
  {
   "cell_type": "markdown",
   "id": "1549a2b3-8516-44af-8bc9-0efa26c6cdbe",
   "metadata": {},
   "source": [
    "Por otro lado, se visualizarán gráficas de pie para clasificar los tipos de productos en relación con sus ventas y el tipo de material utilizado."
   ]
  },
  {
   "cell_type": "markdown",
   "id": "d11bb45a-2eea-4da8-86fa-d56d6a135f65",
   "metadata": {},
   "source": [
    "#### Técnicas de modelación propuestas "
   ]
  },
  {
   "cell_type": "markdown",
   "id": "ac21bb89-741e-4455-bce6-394d828be113",
   "metadata": {},
   "source": [
    "Para el proyecto, se utilizará DARTS, una biblioteca de Python para pronósticos fáciles de usar y detección de anomalías en series temporales. Contiene una variedad de modelos, desde clásicos como ARIMA hasta redes neuronales profundas. Todos los modelos de pronóstico se pueden usar de la misma manera, Uso y funciones, similar a scikit-learn."
   ]
  },
  {
   "cell_type": "markdown",
   "id": "a246856f-4d88-4fb8-b782-ac20339c4ccf",
   "metadata": {},
   "source": [
    "#### Conocimientos requeridos para el desarrollo del proyecto"
   ]
  },
  {
   "cell_type": "markdown",
   "id": "ab17a3db-9890-4f81-b9ff-9e9396e4f8fd",
   "metadata": {},
   "source": [
    "Python, Intermedio"
   ]
  },
  {
   "cell_type": "markdown",
   "id": "f5cf13b0-a025-45e0-a65c-959a14dd6c98",
   "metadata": {},
   "source": [
    "Series de tiempo, intermedio"
   ]
  },
  {
   "cell_type": "markdown",
   "id": "3b000580-fa6a-46b8-be5c-5e6396ef7427",
   "metadata": {},
   "source": [
    "Modelos supervisados predictivos, básico"
   ]
  },
  {
   "cell_type": "markdown",
   "id": "f1fb4c2e-111d-4312-ba9a-2750b468959c",
   "metadata": {},
   "source": [
    "#### Resultados Esperados"
   ]
  },
  {
   "cell_type": "markdown",
   "id": "15e49597-847f-4dc1-aabc-9512607e837b",
   "metadata": {},
   "source": [
    "Un modelo mátemático capaz de hacer una predicción de ventas a través del tiempo para productos de joyería."
   ]
  },
  {
   "cell_type": "markdown",
   "id": "30fb923a-3b8e-4a1d-92c0-08e8987a2cd2",
   "metadata": {},
   "source": [
    "#### Tiempo de desarrollo: 5 semanas"
   ]
  },
  {
   "cell_type": "markdown",
   "id": "b3c5ae6a-51e5-4ca5-a742-4ce5571d16d5",
   "metadata": {},
   "source": [
    "#### Referencias"
   ]
  },
  {
   "cell_type": "markdown",
   "id": "0481668a-8ae9-40d7-8d73-77b74717ccff",
   "metadata": {},
   "source": [
    "State of fashion: watches and jewellery. (2021, 14 junio). McKinsey & Company. https://www.mckinsey.com/industries/retail/our-insights/state-of-fashion-watches-and-jewellery"
   ]
  },
  {
   "cell_type": "markdown",
   "id": "a6326c9e-a10c-4d24-9eb2-d83730ea968a",
   "metadata": {},
   "source": [
    "Análisis económico sobre el sector joyero en Colombia. (s. f.) FENALCO. https://es.slideshare.net/FenalcoAntioquia/anlisis-econmico-sobre-el-sector-joyero-en-colombia"
   ]
  }
 ],
 "metadata": {
  "kernelspec": {
   "display_name": "Python 3 (ipykernel)",
   "language": "python",
   "name": "python3"
  },
  "language_info": {
   "codemirror_mode": {
    "name": "ipython",
    "version": 3
   },
   "file_extension": ".py",
   "mimetype": "text/x-python",
   "name": "python",
   "nbconvert_exporter": "python",
   "pygments_lexer": "ipython3",
   "version": "3.11.4"
  }
 },
 "nbformat": 4,
 "nbformat_minor": 5
}
