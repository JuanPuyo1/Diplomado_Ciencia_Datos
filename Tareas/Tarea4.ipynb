{
 "cells": [
  {
   "cell_type": "code",
   "execution_count": 154,
   "id": "6044e8ce-356b-4d97-b2af-5d4609105993",
   "metadata": {},
   "outputs": [
    {
     "data": {
      "text/plain": [
       "150"
      ]
     },
     "execution_count": 154,
     "metadata": {},
     "output_type": "execute_result"
    }
   ],
   "source": [
    "import pandas as pd\n",
    "class Iris:\n",
    "    def __init__(self):\n",
    "        self.dataset = pd.read_csv(\"iris.csv\")\n",
    "        self.len = len(self.dataset)\n",
    "        self.i = 0\n",
    "        \n",
    "    def datos(self):\n",
    "        try:\n",
    "            print(self.dataset.iloc[self.i])\n",
    "            print(self.dataset.iloc[self.i+1])\n",
    "            self.i = self.i + 2\n",
    "        except:\n",
    "            print(\"error, se acabaron los datos\")\n",
    "\n",
    "prueba=Iris()\n",
    "prueba.len"
   ]
  },
  {
   "cell_type": "code",
   "execution_count": 155,
   "id": "1f10d753-f534-476d-a812-4d19f25132a4",
   "metadata": {},
   "outputs": [
    {
     "name": "stdout",
     "output_type": "stream",
     "text": [
      "sepal.length       5.1\n",
      "sepal.width        3.5\n",
      "petal.length       1.4\n",
      "petal.width        0.2\n",
      "variety         Setosa\n",
      "Name: 0, dtype: object\n",
      "sepal.length       4.9\n",
      "sepal.width        3.0\n",
      "petal.length       1.4\n",
      "petal.width        0.2\n",
      "variety         Setosa\n",
      "Name: 1, dtype: object\n"
     ]
    }
   ],
   "source": [
    "prueba.datos()"
   ]
  },
  {
   "cell_type": "code",
   "execution_count": 13,
   "id": "710b4477-21a6-4035-8e72-3082161459dc",
   "metadata": {},
   "outputs": [
    {
     "name": "stdout",
     "output_type": "stream",
     "text": [
      "estadisticas y cuartiles de sepal.length\n",
      "count    150.000000\n",
      "mean       5.843333\n",
      "std        0.828066\n",
      "min        4.300000\n",
      "25%        5.100000\n",
      "50%        5.800000\n",
      "75%        6.400000\n",
      "max        7.900000\n",
      "Name: sepal.length, dtype: float64\n"
     ]
    },
    {
     "data": {
      "text/plain": [
       "(array([ 1.,  3.,  0.,  1.,  0.,  4.,  0.,  2.,  0.,  5.,  0.,  6.,  0.,\n",
       "        10.,  0.,  9.,  0.,  4.,  0.,  1.,  0.,  6.,  0.,  7.,  0.,  6.,\n",
       "         0.,  8.,  0.,  7.,  0.,  3.,  0.,  6.,  0.,  6.,  4.,  0.,  9.,\n",
       "         0.,  7.,  0.,  5.,  0.,  2.,  0.,  8.,  0.,  3.,  0.,  4.,  0.,\n",
       "         1.,  0.,  1.,  0.,  3.,  0.,  1.,  0.,  1.,  0.,  0.,  0.,  1.,\n",
       "         0.,  4.,  0.,  0.,  1.]),\n",
       " array([4.3       , 4.35142857, 4.40285714, 4.45428571, 4.50571429,\n",
       "        4.55714286, 4.60857143, 4.66      , 4.71142857, 4.76285714,\n",
       "        4.81428571, 4.86571429, 4.91714286, 4.96857143, 5.02      ,\n",
       "        5.07142857, 5.12285714, 5.17428571, 5.22571429, 5.27714286,\n",
       "        5.32857143, 5.38      , 5.43142857, 5.48285714, 5.53428571,\n",
       "        5.58571429, 5.63714286, 5.68857143, 5.74      , 5.79142857,\n",
       "        5.84285714, 5.89428571, 5.94571429, 5.99714286, 6.04857143,\n",
       "        6.1       , 6.15142857, 6.20285714, 6.25428571, 6.30571429,\n",
       "        6.35714286, 6.40857143, 6.46      , 6.51142857, 6.56285714,\n",
       "        6.61428571, 6.66571429, 6.71714286, 6.76857143, 6.82      ,\n",
       "        6.87142857, 6.92285714, 6.97428571, 7.02571429, 7.07714286,\n",
       "        7.12857143, 7.18      , 7.23142857, 7.28285714, 7.33428571,\n",
       "        7.38571429, 7.43714286, 7.48857143, 7.54      , 7.59142857,\n",
       "        7.64285714, 7.69428571, 7.74571429, 7.79714286, 7.84857143,\n",
       "        7.9       ]),\n",
       " [<matplotlib.patches.Polygon at 0x21c329ff810>])"
      ]
     },
     "execution_count": 13,
     "metadata": {},
     "output_type": "execute_result"
    },
    {
     "data": {
      "image/png": "[encoded data removed]",
      "text/plain": [
       "<Figure size 640x480 with 1 Axes>"
      ]
     },
     "metadata": {},
     "output_type": "display_data"
    }
   ],
   "source": [
    "import pandas as pd\n",
    "import matplotlib.pyplot as plt\n",
    "class StatsIris:\n",
    "    def __init__(self):\n",
    "        self.dataset = pd.read_csv(\"iris.csv\")\n",
    "        self.len = len(self.dataset)\n",
    "        self.result = self.dataset.describe()\n",
    "        self.columns = self.dataset.columns\n",
    "        \n",
    "    def basic_stats(self):\n",
    "        return self.result\n",
    "    \n",
    "    def var_names(self):\n",
    "        return self.columns\n",
    "    \n",
    "    def stats_and_hist(self, varname = str):\n",
    "        if varname in self.columns:\n",
    "            print(\"estadisticas y cuartiles de\",varname)\n",
    "            print(self.dataset[varname].describe())\n",
    "            hist = plt.hist(self.dataset[varname], 70, histtype=\"stepfilled\", alpha=.7)\n",
    "            return hist\n",
    "        else:\n",
    "            print(\"la variable no esta dentro del dataset iris.csv\")\n",
    "            \n",
    "\n",
    "prueba2 = StatsIris()\n",
    "prueba2.var_names()\n",
    "prueba2.stats_and_hist(\"sepal.length\")"
   ]
  }
 ],
 "metadata": {
  "kernelspec": {
   "display_name": "Python 3 (ipykernel)",
   "language": "python",
   "name": "python3"
  },
  "language_info": {
   "codemirror_mode": {
    "name": "ipython",
    "version": 3
   },
   "file_extension": ".py",
   "mimetype": "text/x-python",
   "name": "python",
   "nbconvert_exporter": "python",
   "pygments_lexer": "ipython3",
   "version": "3.11.4"
  }
 },
 "nbformat": 4,
 "nbformat_minor": 5
}
